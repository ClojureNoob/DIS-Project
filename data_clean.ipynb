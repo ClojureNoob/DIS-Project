{
 "cells": [
  {
   "cell_type": "code",
   "execution_count": 12,
   "metadata": {},
   "outputs": [],
   "source": [
    "import pandas as pd\n",
    "import numpy as np\n",
    "from geopy import Nominatim\n",
    "from tqdm import tqdm"
   ]
  },
  {
   "cell_type": "code",
   "execution_count": 2,
   "metadata": {},
   "outputs": [],
   "source": [
    "#read nasdaq.csv\n",
    "df = pd.read_csv('nasdaq.csv')"
   ]
  },
  {
   "cell_type": "code",
   "execution_count": 3,
   "metadata": {},
   "outputs": [],
   "source": [
    "#keep only the columns company_name, symbol, lat, lon\n",
    "df = df[['symbol','company_name', 'lat', 'lon']]"
   ]
  },
  {
   "cell_type": "code",
   "execution_count": 13,
   "metadata": {},
   "outputs": [],
   "source": [
    "def get_country_code(lat,lon):\n",
    "    geolocator = Nominatim(user_agent=\"data-clean\")\n",
    "    try:\n",
    "        return geolocator.reverse(str(lat) + ',' + str(lon)).raw['address']['country_code']\n",
    "    except:\n",
    "        return ''\n",
    "\n",
    "def get_state(lat,lon):\n",
    "    geolocator = Nominatim(user_agent=\"data-clean\")\n",
    "    try:\n",
    "        return geolocator.reverse(str(lat) + ',' + str(lon)).raw['address']['state']\n",
    "    except:\n",
    "        return ''"
   ]
  },
  {
   "cell_type": "code",
   "execution_count": 14,
   "metadata": {},
   "outputs": [],
   "source": [
    "tqdm.pandas()"
   ]
  },
  {
   "cell_type": "code",
   "execution_count": 10,
   "metadata": {},
   "outputs": [],
   "source": [
    "df['country'] = df.progress_apply(lambda row: get_country_code(row['lat'], row['lon']), axis=1)\n",
    "df['state'] = df.progress_apply(lambda row: get_state(row['lat'], row['lon']), axis=1)"
   ]
  },
  {
   "cell_type": "code",
   "execution_count": 11,
   "metadata": {},
   "outputs": [],
   "source": [
    "#write to nasdaq2.csv\n",
    "df.to_csv('nasdaq2.csv', index=False)"
